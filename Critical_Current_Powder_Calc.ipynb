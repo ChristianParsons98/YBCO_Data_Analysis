{
  "nbformat": 4,
  "nbformat_minor": 0,
  "metadata": {
    "colab": {
      "provenance": [],
      "authorship_tag": "ABX9TyPZKhyWdwKz8Hjsysiji7eQ",
      "include_colab_link": true
    },
    "kernelspec": {
      "name": "python3",
      "display_name": "Python 3"
    },
    "language_info": {
      "name": "python"
    }
  },
  "cells": [
    {
      "cell_type": "markdown",
      "metadata": {
        "id": "view-in-github",
        "colab_type": "text"
      },
      "source": [
        "<a href=\"https://colab.research.google.com/github/ChristianParsons98/YBCO_Data_Analysis/blob/main/Critical_Current_Powder_Calc.ipynb\" target=\"_parent\"><img src=\"https://colab.research.google.com/assets/colab-badge.svg\" alt=\"Open In Colab\"/></a>"
      ]
    },
    {
      "cell_type": "code",
      "execution_count": 73,
      "metadata": {
        "id": "TmbZWlo_donx"
      },
      "outputs": [],
      "source": [
        "import numpy as np\n",
        "import pandas as pd\n",
        "import matplotlib.pyplot as plt"
      ]
    },
    {
      "cell_type": "code",
      "source": [
        "#Define a function which calculates Bean's Critical Current Density for a cylindrical geometry.\n",
        "#The function takes m (mass (mg)), M(magnetic moment (emu)), L (Length of cylinder (mm)), and p (density (mg/mm^3)).\n",
        "def BeanJC_Cyl(m,M,L,p):\n",
        "  #Convert from mm to cm\n",
        "  L=L*.1\n",
        "  p=p*1000.\n",
        "  JC = 15.0 * M * (p/m)**(1.5)*np.sqrt(np.pi * L)\n",
        "  #Convert from emu/cm^4 to A/cm^2\n",
        "  JC = JC*10.\n",
        "  return JC"
      ],
      "metadata": {
        "id": "eCLROhdMFcJr"
      },
      "execution_count": 74,
      "outputs": []
    },
    {
      "cell_type": "code",
      "source": [
        "#Define a function which calculates The Error in Bean's Critical Current Density for a cylindrical geometry.\n",
        "#The function takes m (mass), M(magnetic moment), L (Length of cylinder), p (density),\n",
        "#  dL (error in L).\n",
        "def dBeanJC_Cyl(m,M,L,p,dL):\n",
        "  #Convert from mm to cm\n",
        "  L=L*.1\n",
        "  dL=dL*.1\n",
        "  p=p*1000.\n",
        "  dJC = 7.5 * M * (p/m)**(1.5)*np.sqrt(np.pi)*1./(np.sqrt(L))*dL\n",
        "  return dJC*10."
      ],
      "metadata": {
        "id": "NZNX7D9DeBaU"
      },
      "execution_count": 78,
      "outputs": []
    },
    {
      "cell_type": "code",
      "source": [
        "#Measured Data\n",
        "dataset = {'pure':[41.93, 1.056, 3.33,6.3], '10p':[13.08, 0.1070, 4.5, 6.27], '20p':[24.10,0.2059,3.5,6.24]}"
      ],
      "metadata": {
        "id": "2Oaq1wv6RSwe"
      },
      "execution_count": 79,
      "outputs": []
    },
    {
      "cell_type": "code",
      "source": [
        "PureJc=BeanJC_Cyl(*dataset['pure'])\n",
        "p10Jc=BeanJC_Cyl(*dataset['10p'])\n",
        "p20Jc=BeanJC_Cyl(*dataset['20p'])\n",
        "\n",
        "dPure = dBeanJC_Cyl(*dataset['pure'],0.5)\n",
        "d10 = dBeanJC_Cyl(*dataset['10p'],0.5)\n",
        "d20 = dBeanJC_Cyl(*dataset['20p'],0.5)\n",
        "\n",
        "print('Pure Jc:',PureJc, ' +/-', dPure)\n",
        "print('10 percent Jc:',p10Jc, '+/-', d10)\n",
        "print('20 percent Jc:',p20Jc, '+/-', d20)"
      ],
      "metadata": {
        "colab": {
          "base_uri": "https://localhost:8080/"
        },
        "id": "_g3MlSwaRh-y",
        "outputId": "4cdf8aee-8446-484d-82b3-ba7b5c54888f"
      },
      "execution_count": 81,
      "outputs": [
        {
          "output_type": "stream",
          "name": "stdout",
          "text": [
            "Pure Jc: 298384.15755526186  +/- 22401.21302967431\n",
            "10 percent Jc: 200283.8472845341 +/- 11126.880404696338\n",
            "20 percent Jc: 134929.80255689824 +/- 9637.843039778447\n"
          ]
        }
      ]
    },
    {
      "cell_type": "code",
      "source": [],
      "metadata": {
        "id": "C5HkO7bjdgL2"
      },
      "execution_count": 72,
      "outputs": []
    },
    {
      "cell_type": "code",
      "source": [],
      "metadata": {
        "id": "y2oR4xQWLguh"
      },
      "execution_count": null,
      "outputs": []
    }
  ]
}